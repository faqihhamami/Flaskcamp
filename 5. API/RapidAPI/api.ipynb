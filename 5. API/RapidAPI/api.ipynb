{
 "cells": [
  {
   "cell_type": "markdown",
   "metadata": {},
   "source": [
    "## Premier League API\n",
    "\n",
    "Link : `https://rapidapi.com/UnlimitedAPI/api/premier-league-standings1/`"
   ]
  },
  {
   "cell_type": "code",
   "execution_count": 3,
   "metadata": {},
   "outputs": [
    {
     "name": "stdout",
     "output_type": "stream",
     "text": [
      "[{\"team\":{\"name\":\"Manchester City\",\"logo\":\"https:\\/\\/a.espncdn.com\\/i\\/teamlogos\\/soccer\\/500\\/382.png\",\"abbreviation\":\"MNC\"},\"stats\":{\"wins\":26,\"losses\":4,\"ties\":4,\"gamesPlayed\":34,\"goalsFor\":89,\"goalsAgainst\":31,\"points\":82,\"rank\":1,\"goalDifference\":58}},{\"team\":{\"name\":\"Arsenal\",\"logo\":\"https:\\/\\/a.espncdn.com\\/i\\/teamlogos\\/soccer\\/500\\/359.png\",\"abbreviation\":\"ARS\"},\"stats\":{\"wins\":25,\"losses\":4,\"ties\":6,\"gamesPlayed\":35,\"goalsFor\":83,\"goalsAgainst\":39,\"points\":81,\"rank\":2,\"goalDifference\":44}},{\"team\":{\"name\":\"Newcastle United\",\"logo\":\"https:\\/\\/a.espncdn.com\\/i\\/teamlogos\\/soccer\\/500\\/361.png\",\"abbreviation\":\"NEW\"},\"stats\":{\"wins\":18,\"losses\":5,\"ties\":11,\"gamesPlayed\":34,\"goalsFor\":61,\"goalsAgainst\":29,\"points\":65,\"rank\":3,\"goalDifference\":32}},{\"team\":{\"name\":\"Manchester United\",\"logo\":\"https:\\/\\/a.espncdn.com\\/i\\/teamlogos\\/soccer\\/500\\/360.png\",\"abbreviation\":\"MAN\"},\"stats\":{\"wins\":19,\"losses\":9,\"ties\":6,\"gamesPlayed\":34,\"goalsFor\":49,\"goalsAgainst\":41,\"points\":63,\"rank\":4,\"goalDifference\":8}},{\"team\":{\"name\":\"Liverpool\",\"logo\":\"https:\\/\\/a.espncdn.com\\/i\\/teamlogos\\/soccer\\/500\\/364.png\",\"abbreviation\":\"LIV\"},\"stats\":{\"wins\":18,\"losses\":9,\"ties\":8,\"gamesPlayed\":35,\"goalsFor\":67,\"goalsAgainst\":42,\"points\":62,\"rank\":5,\"goalDifference\":25}},{\"team\":{\"name\":\"Tottenham Hotspur\",\"logo\":\"https:\\/\\/a.espncdn.com\\/i\\/teamlogos\\/soccer\\/500\\/367.png\",\"abbreviation\":\"TOT\"},\"stats\":{\"wins\":17,\"losses\":12,\"ties\":6,\"gamesPlayed\":35,\"goalsFor\":64,\"goalsAgainst\":57,\"points\":57,\"rank\":6,\"goalDifference\":7}},{\"team\":{\"name\":\"Brighton & Hove Albion\",\"logo\":\"https:\\/\\/a.espncdn.com\\/i\\/teamlogos\\/soccer\\/500\\/331.png\",\"abbreviation\":\"BHA\"},\"stats\":{\"wins\":16,\"losses\":10,\"ties\":7,\"gamesPlayed\":33,\"goalsFor\":63,\"goalsAgainst\":45,\"points\":55,\"rank\":7,\"goalDifference\":18}},{\"team\":{\"name\":\"Aston Villa\",\"logo\":\"https:\\/\\/a.espncdn.com\\/i\\/teamlogos\\/soccer\\/500\\/362.png\",\"abbreviation\":\"AVL\"},\"stats\":{\"wins\":16,\"losses\":13,\"ties\":6,\"gamesPlayed\":35,\"goalsFor\":46,\"goalsAgainst\":43,\"points\":54,\"rank\":8,\"goalDifference\":3}},{\"team\":{\"name\":\"Brentford\",\"logo\":\"https:\\/\\/a.espncdn.com\\/i\\/teamlogos\\/soccer\\/500\\/337.png\",\"abbreviation\":\"BRE\"},\"stats\":{\"wins\":12,\"losses\":9,\"ties\":14,\"gamesPlayed\":35,\"goalsFor\":52,\"goalsAgainst\":45,\"points\":50,\"rank\":9,\"goalDifference\":7}},{\"team\":{\"name\":\"Fulham\",\"logo\":\"https:\\/\\/a.espncdn.com\\/i\\/teamlogos\\/soccer\\/500\\/370.png\",\"abbreviation\":\"FUL\"},\"stats\":{\"wins\":14,\"losses\":15,\"ties\":6,\"gamesPlayed\":35,\"goalsFor\":50,\"goalsAgainst\":49,\"points\":48,\"rank\":10,\"goalDifference\":1}},{\"team\":{\"name\":\"Chelsea\",\"logo\":\"https:\\/\\/a.espncdn.com\\/i\\/teamlogos\\/soccer\\/500\\/363.png\",\"abbreviation\":\"CHE\"},\"stats\":{\"wins\":11,\"losses\":14,\"ties\":9,\"gamesPlayed\":34,\"goalsFor\":34,\"goalsAgainst\":39,\"points\":42,\"rank\":11,\"goalDifference\":-5}},{\"team\":{\"name\":\"Crystal Palace\",\"logo\":\"https:\\/\\/a.espncdn.com\\/i\\/teamlogos\\/soccer\\/500\\/384.png\",\"abbreviation\":\"CRY\"},\"stats\":{\"wins\":10,\"losses\":15,\"ties\":10,\"gamesPlayed\":35,\"goalsFor\":35,\"goalsAgainst\":46,\"points\":40,\"rank\":12,\"goalDifference\":-11}},{\"team\":{\"name\":\"Wolverhampton Wanderers\",\"logo\":\"https:\\/\\/a.espncdn.com\\/i\\/teamlogos\\/soccer\\/500\\/380.png\",\"abbreviation\":\"WOL\"},\"stats\":{\"wins\":11,\"losses\":17,\"ties\":7,\"gamesPlayed\":35,\"goalsFor\":30,\"goalsAgainst\":50,\"points\":40,\"rank\":13,\"goalDifference\":-20}},{\"team\":{\"name\":\"AFC Bournemouth\",\"logo\":\"https:\\/\\/a.espncdn.com\\/i\\/teamlogos\\/soccer\\/500\\/349.png\",\"abbreviation\":\"BOU\"},\"stats\":{\"wins\":11,\"losses\":18,\"ties\":6,\"gamesPlayed\":35,\"goalsFor\":37,\"goalsAgainst\":67,\"points\":39,\"rank\":14,\"goalDifference\":-30}},{\"team\":{\"name\":\"West Ham United\",\"logo\":\"https:\\/\\/a.espncdn.com\\/i\\/teamlogos\\/soccer\\/500\\/371.png\",\"abbreviation\":\"WHU\"},\"stats\":{\"wins\":10,\"losses\":18,\"ties\":7,\"gamesPlayed\":35,\"goalsFor\":38,\"goalsAgainst\":50,\"points\":37,\"rank\":15,\"goalDifference\":-12}},{\"team\":{\"name\":\"Nottingham Forest\",\"logo\":\"https:\\/\\/a.espncdn.com\\/i\\/teamlogos\\/soccer\\/500\\/393.png\",\"abbreviation\":\"NFO\"},\"stats\":{\"wins\":8,\"losses\":18,\"ties\":9,\"gamesPlayed\":35,\"goalsFor\":34,\"goalsAgainst\":65,\"points\":33,\"rank\":16,\"goalDifference\":-31}},{\"team\":{\"name\":\"Everton\",\"logo\":\"https:\\/\\/a.espncdn.com\\/i\\/teamlogos\\/soccer\\/500\\/368.png\",\"abbreviation\":\"EVE\"},\"stats\":{\"wins\":7,\"losses\":17,\"ties\":11,\"gamesPlayed\":35,\"goalsFor\":32,\"goalsAgainst\":53,\"points\":32,\"rank\":17,\"goalDifference\":-21}},{\"team\":{\"name\":\"Leicester City\",\"logo\":\"https:\\/\\/a.espncdn.com\\/i\\/teamlogos\\/soccer\\/500\\/375.png\",\"abbreviation\":\"LEI\"},\"stats\":{\"wins\":8,\"losses\":21,\"ties\":6,\"gamesPlayed\":35,\"goalsFor\":49,\"goalsAgainst\":64,\"points\":30,\"rank\":18,\"goalDifference\":-15}},{\"team\":{\"name\":\"Leeds United\",\"logo\":\"https:\\/\\/a.espncdn.com\\/i\\/teamlogos\\/soccer\\/500\\/357.png\",\"abbreviation\":\"LEE\"},\"stats\":{\"wins\":7,\"losses\":19,\"ties\":9,\"gamesPlayed\":35,\"goalsFor\":44,\"goalsAgainst\":69,\"points\":30,\"rank\":19,\"goalDifference\":-25}},{\"team\":{\"name\":\"Southampton\",\"logo\":\"https:\\/\\/a.espncdn.com\\/i\\/teamlogos\\/soccer\\/500\\/376.png\",\"abbreviation\":\"SOU\"},\"stats\":{\"wins\":6,\"losses\":23,\"ties\":6,\"gamesPlayed\":35,\"goalsFor\":31,\"goalsAgainst\":64,\"points\":24,\"rank\":20,\"goalDifference\":-33}}]\n"
     ]
    }
   ],
   "source": [
    "import requests\n",
    "import json \n",
    "url = \"https://premier-league-standings1.p.rapidapi.com/\"\n",
    "\n",
    "headers = {\n",
    "\t\"X-RapidAPI-Key\": \"d3df6dc15bmsh342cb4697f76e33p1ee0f0jsn045f39f9f64b\",\n",
    "\t\"X-RapidAPI-Host\": \"premier-league-standings1.p.rapidapi.com\"\n",
    "}\n",
    "\n",
    "response = requests.get(url, headers=headers)\n",
    "print(response.text)"
   ]
  },
  {
   "cell_type": "code",
   "execution_count": 4,
   "metadata": {},
   "outputs": [
    {
     "data": {
      "text/plain": [
       "str"
      ]
     },
     "execution_count": 4,
     "metadata": {},
     "output_type": "execute_result"
    }
   ],
   "source": [
    "type(response.text)"
   ]
  },
  {
   "cell_type": "code",
   "execution_count": 5,
   "metadata": {},
   "outputs": [
    {
     "data": {
      "text/plain": [
       "[{'team': {'name': 'Manchester City',\n",
       "   'logo': 'https://a.espncdn.com/i/teamlogos/soccer/500/382.png',\n",
       "   'abbreviation': 'MNC'},\n",
       "  'stats': {'wins': 26,\n",
       "   'losses': 4,\n",
       "   'ties': 4,\n",
       "   'gamesPlayed': 34,\n",
       "   'goalsFor': 89,\n",
       "   'goalsAgainst': 31,\n",
       "   'points': 82,\n",
       "   'rank': 1,\n",
       "   'goalDifference': 58}},\n",
       " {'team': {'name': 'Arsenal',\n",
       "   'logo': 'https://a.espncdn.com/i/teamlogos/soccer/500/359.png',\n",
       "   'abbreviation': 'ARS'},\n",
       "  'stats': {'wins': 25,\n",
       "   'losses': 4,\n",
       "   'ties': 6,\n",
       "   'gamesPlayed': 35,\n",
       "   'goalsFor': 83,\n",
       "   'goalsAgainst': 39,\n",
       "   'points': 81,\n",
       "   'rank': 2,\n",
       "   'goalDifference': 44}},\n",
       " {'team': {'name': 'Newcastle United',\n",
       "   'logo': 'https://a.espncdn.com/i/teamlogos/soccer/500/361.png',\n",
       "   'abbreviation': 'NEW'},\n",
       "  'stats': {'wins': 18,\n",
       "   'losses': 5,\n",
       "   'ties': 11,\n",
       "   'gamesPlayed': 34,\n",
       "   'goalsFor': 61,\n",
       "   'goalsAgainst': 29,\n",
       "   'points': 65,\n",
       "   'rank': 3,\n",
       "   'goalDifference': 32}},\n",
       " {'team': {'name': 'Manchester United',\n",
       "   'logo': 'https://a.espncdn.com/i/teamlogos/soccer/500/360.png',\n",
       "   'abbreviation': 'MAN'},\n",
       "  'stats': {'wins': 19,\n",
       "   'losses': 9,\n",
       "   'ties': 6,\n",
       "   'gamesPlayed': 34,\n",
       "   'goalsFor': 49,\n",
       "   'goalsAgainst': 41,\n",
       "   'points': 63,\n",
       "   'rank': 4,\n",
       "   'goalDifference': 8}},\n",
       " {'team': {'name': 'Liverpool',\n",
       "   'logo': 'https://a.espncdn.com/i/teamlogos/soccer/500/364.png',\n",
       "   'abbreviation': 'LIV'},\n",
       "  'stats': {'wins': 18,\n",
       "   'losses': 9,\n",
       "   'ties': 8,\n",
       "   'gamesPlayed': 35,\n",
       "   'goalsFor': 67,\n",
       "   'goalsAgainst': 42,\n",
       "   'points': 62,\n",
       "   'rank': 5,\n",
       "   'goalDifference': 25}},\n",
       " {'team': {'name': 'Tottenham Hotspur',\n",
       "   'logo': 'https://a.espncdn.com/i/teamlogos/soccer/500/367.png',\n",
       "   'abbreviation': 'TOT'},\n",
       "  'stats': {'wins': 17,\n",
       "   'losses': 12,\n",
       "   'ties': 6,\n",
       "   'gamesPlayed': 35,\n",
       "   'goalsFor': 64,\n",
       "   'goalsAgainst': 57,\n",
       "   'points': 57,\n",
       "   'rank': 6,\n",
       "   'goalDifference': 7}},\n",
       " {'team': {'name': 'Brighton & Hove Albion',\n",
       "   'logo': 'https://a.espncdn.com/i/teamlogos/soccer/500/331.png',\n",
       "   'abbreviation': 'BHA'},\n",
       "  'stats': {'wins': 16,\n",
       "   'losses': 10,\n",
       "   'ties': 7,\n",
       "   'gamesPlayed': 33,\n",
       "   'goalsFor': 63,\n",
       "   'goalsAgainst': 45,\n",
       "   'points': 55,\n",
       "   'rank': 7,\n",
       "   'goalDifference': 18}},\n",
       " {'team': {'name': 'Aston Villa',\n",
       "   'logo': 'https://a.espncdn.com/i/teamlogos/soccer/500/362.png',\n",
       "   'abbreviation': 'AVL'},\n",
       "  'stats': {'wins': 16,\n",
       "   'losses': 13,\n",
       "   'ties': 6,\n",
       "   'gamesPlayed': 35,\n",
       "   'goalsFor': 46,\n",
       "   'goalsAgainst': 43,\n",
       "   'points': 54,\n",
       "   'rank': 8,\n",
       "   'goalDifference': 3}},\n",
       " {'team': {'name': 'Brentford',\n",
       "   'logo': 'https://a.espncdn.com/i/teamlogos/soccer/500/337.png',\n",
       "   'abbreviation': 'BRE'},\n",
       "  'stats': {'wins': 12,\n",
       "   'losses': 9,\n",
       "   'ties': 14,\n",
       "   'gamesPlayed': 35,\n",
       "   'goalsFor': 52,\n",
       "   'goalsAgainst': 45,\n",
       "   'points': 50,\n",
       "   'rank': 9,\n",
       "   'goalDifference': 7}},\n",
       " {'team': {'name': 'Fulham',\n",
       "   'logo': 'https://a.espncdn.com/i/teamlogos/soccer/500/370.png',\n",
       "   'abbreviation': 'FUL'},\n",
       "  'stats': {'wins': 14,\n",
       "   'losses': 15,\n",
       "   'ties': 6,\n",
       "   'gamesPlayed': 35,\n",
       "   'goalsFor': 50,\n",
       "   'goalsAgainst': 49,\n",
       "   'points': 48,\n",
       "   'rank': 10,\n",
       "   'goalDifference': 1}},\n",
       " {'team': {'name': 'Chelsea',\n",
       "   'logo': 'https://a.espncdn.com/i/teamlogos/soccer/500/363.png',\n",
       "   'abbreviation': 'CHE'},\n",
       "  'stats': {'wins': 11,\n",
       "   'losses': 14,\n",
       "   'ties': 9,\n",
       "   'gamesPlayed': 34,\n",
       "   'goalsFor': 34,\n",
       "   'goalsAgainst': 39,\n",
       "   'points': 42,\n",
       "   'rank': 11,\n",
       "   'goalDifference': -5}},\n",
       " {'team': {'name': 'Crystal Palace',\n",
       "   'logo': 'https://a.espncdn.com/i/teamlogos/soccer/500/384.png',\n",
       "   'abbreviation': 'CRY'},\n",
       "  'stats': {'wins': 10,\n",
       "   'losses': 15,\n",
       "   'ties': 10,\n",
       "   'gamesPlayed': 35,\n",
       "   'goalsFor': 35,\n",
       "   'goalsAgainst': 46,\n",
       "   'points': 40,\n",
       "   'rank': 12,\n",
       "   'goalDifference': -11}},\n",
       " {'team': {'name': 'Wolverhampton Wanderers',\n",
       "   'logo': 'https://a.espncdn.com/i/teamlogos/soccer/500/380.png',\n",
       "   'abbreviation': 'WOL'},\n",
       "  'stats': {'wins': 11,\n",
       "   'losses': 17,\n",
       "   'ties': 7,\n",
       "   'gamesPlayed': 35,\n",
       "   'goalsFor': 30,\n",
       "   'goalsAgainst': 50,\n",
       "   'points': 40,\n",
       "   'rank': 13,\n",
       "   'goalDifference': -20}},\n",
       " {'team': {'name': 'AFC Bournemouth',\n",
       "   'logo': 'https://a.espncdn.com/i/teamlogos/soccer/500/349.png',\n",
       "   'abbreviation': 'BOU'},\n",
       "  'stats': {'wins': 11,\n",
       "   'losses': 18,\n",
       "   'ties': 6,\n",
       "   'gamesPlayed': 35,\n",
       "   'goalsFor': 37,\n",
       "   'goalsAgainst': 67,\n",
       "   'points': 39,\n",
       "   'rank': 14,\n",
       "   'goalDifference': -30}},\n",
       " {'team': {'name': 'West Ham United',\n",
       "   'logo': 'https://a.espncdn.com/i/teamlogos/soccer/500/371.png',\n",
       "   'abbreviation': 'WHU'},\n",
       "  'stats': {'wins': 10,\n",
       "   'losses': 18,\n",
       "   'ties': 7,\n",
       "   'gamesPlayed': 35,\n",
       "   'goalsFor': 38,\n",
       "   'goalsAgainst': 50,\n",
       "   'points': 37,\n",
       "   'rank': 15,\n",
       "   'goalDifference': -12}},\n",
       " {'team': {'name': 'Nottingham Forest',\n",
       "   'logo': 'https://a.espncdn.com/i/teamlogos/soccer/500/393.png',\n",
       "   'abbreviation': 'NFO'},\n",
       "  'stats': {'wins': 8,\n",
       "   'losses': 18,\n",
       "   'ties': 9,\n",
       "   'gamesPlayed': 35,\n",
       "   'goalsFor': 34,\n",
       "   'goalsAgainst': 65,\n",
       "   'points': 33,\n",
       "   'rank': 16,\n",
       "   'goalDifference': -31}},\n",
       " {'team': {'name': 'Everton',\n",
       "   'logo': 'https://a.espncdn.com/i/teamlogos/soccer/500/368.png',\n",
       "   'abbreviation': 'EVE'},\n",
       "  'stats': {'wins': 7,\n",
       "   'losses': 17,\n",
       "   'ties': 11,\n",
       "   'gamesPlayed': 35,\n",
       "   'goalsFor': 32,\n",
       "   'goalsAgainst': 53,\n",
       "   'points': 32,\n",
       "   'rank': 17,\n",
       "   'goalDifference': -21}},\n",
       " {'team': {'name': 'Leicester City',\n",
       "   'logo': 'https://a.espncdn.com/i/teamlogos/soccer/500/375.png',\n",
       "   'abbreviation': 'LEI'},\n",
       "  'stats': {'wins': 8,\n",
       "   'losses': 21,\n",
       "   'ties': 6,\n",
       "   'gamesPlayed': 35,\n",
       "   'goalsFor': 49,\n",
       "   'goalsAgainst': 64,\n",
       "   'points': 30,\n",
       "   'rank': 18,\n",
       "   'goalDifference': -15}},\n",
       " {'team': {'name': 'Leeds United',\n",
       "   'logo': 'https://a.espncdn.com/i/teamlogos/soccer/500/357.png',\n",
       "   'abbreviation': 'LEE'},\n",
       "  'stats': {'wins': 7,\n",
       "   'losses': 19,\n",
       "   'ties': 9,\n",
       "   'gamesPlayed': 35,\n",
       "   'goalsFor': 44,\n",
       "   'goalsAgainst': 69,\n",
       "   'points': 30,\n",
       "   'rank': 19,\n",
       "   'goalDifference': -25}},\n",
       " {'team': {'name': 'Southampton',\n",
       "   'logo': 'https://a.espncdn.com/i/teamlogos/soccer/500/376.png',\n",
       "   'abbreviation': 'SOU'},\n",
       "  'stats': {'wins': 6,\n",
       "   'losses': 23,\n",
       "   'ties': 6,\n",
       "   'gamesPlayed': 35,\n",
       "   'goalsFor': 31,\n",
       "   'goalsAgainst': 64,\n",
       "   'points': 24,\n",
       "   'rank': 20,\n",
       "   'goalDifference': -33}}]"
      ]
     },
     "execution_count": 5,
     "metadata": {},
     "output_type": "execute_result"
    }
   ],
   "source": [
    "# convert ke list of json \n",
    "import json\n",
    "jsontext = json.loads(response.text)\n",
    "jsontext"
   ]
  },
  {
   "cell_type": "code",
   "execution_count": 6,
   "metadata": {},
   "outputs": [
    {
     "name": "stdout",
     "output_type": "stream",
     "text": [
      "{'team': {'name': 'Manchester City', 'logo': 'https://a.espncdn.com/i/teamlogos/soccer/500/382.png', 'abbreviation': 'MNC'}, 'stats': {'wins': 26, 'losses': 4, 'ties': 4, 'gamesPlayed': 34, 'goalsFor': 89, 'goalsAgainst': 31, 'points': 82, 'rank': 1, 'goalDifference': 58}}\n"
     ]
    }
   ],
   "source": [
    "# get first rank \n",
    "print(jsontext[0])"
   ]
  },
  {
   "cell_type": "code",
   "execution_count": 7,
   "metadata": {},
   "outputs": [
    {
     "name": "stdout",
     "output_type": "stream",
     "text": [
      "Manchester City\n",
      "{'wins': 26, 'losses': 4, 'ties': 4, 'gamesPlayed': 34, 'goalsFor': 89, 'goalsAgainst': 31, 'points': 82, 'rank': 1, 'goalDifference': 58}\n"
     ]
    }
   ],
   "source": [
    "# get the club name and stats\n",
    "print(jsontext[0]['team']['name'])\n",
    "print(jsontext[0]['stats'])"
   ]
  },
  {
   "cell_type": "code",
   "execution_count": 8,
   "metadata": {},
   "outputs": [
    {
     "name": "stdout",
     "output_type": "stream",
     "text": [
      "['Manchester City', 'Arsenal', 'Newcastle United', 'Manchester United', 'Liverpool', 'Tottenham Hotspur', 'Brighton & Hove Albion', 'Aston Villa', 'Brentford', 'Fulham', 'Chelsea', 'Crystal Palace', 'Wolverhampton Wanderers', 'AFC Bournemouth', 'West Ham United', 'Nottingham Forest', 'Everton', 'Leicester City', 'Leeds United', 'Southampton']\n"
     ]
    }
   ],
   "source": [
    "# get only team rank \n",
    "teams = [i['team']['name'] for i in jsontext]\n",
    "\n",
    "print(team)\n"
   ]
  },
  {
   "cell_type": "code",
   "execution_count": 11,
   "metadata": {},
   "outputs": [],
   "source": [
    "# get wins, losses, gamesPlayed, points and rank\n",
    "wins = [i['stats']['wins'] for i in jsontext]\n",
    "losses = [i['stats']['losses'] for i in jsontext]\n",
    "gamesPlayed = [i['stats']['gamesPlayed'] for i in jsontext]\n",
    "points = [i['stats']['points'] for i in jsontext]\n",
    "rank = [i['stats']['rank'] for i in jsontext]\n"
   ]
  },
  {
   "cell_type": "code",
   "execution_count": 12,
   "metadata": {},
   "outputs": [
    {
     "name": "stdout",
     "output_type": "stream",
     "text": [
      "Alice 24\n",
      "Bob 50\n",
      "Charlie 18\n"
     ]
    }
   ],
   "source": [
    "names = ['Alice', 'Bob', 'Charlie']\n",
    "ages = [24, 50, 18]\n",
    "\n",
    "for name, age in zip(names, ages):\n",
    "    print(name, age)"
   ]
  },
  {
   "cell_type": "code",
   "execution_count": 13,
   "metadata": {},
   "outputs": [],
   "source": [
    "all = zip(names, ages)"
   ]
  },
  {
   "cell_type": "code",
   "execution_count": 14,
   "metadata": {},
   "outputs": [
    {
     "data": {
      "text/plain": [
       "<zip at 0x1b880474d80>"
      ]
     },
     "execution_count": 14,
     "metadata": {},
     "output_type": "execute_result"
    }
   ],
   "source": [
    "all"
   ]
  },
  {
   "cell_type": "code",
   "execution_count": 15,
   "metadata": {},
   "outputs": [
    {
     "name": "stdout",
     "output_type": "stream",
     "text": [
      "Alice 24\n",
      "Bob 50\n",
      "Charlie 18\n"
     ]
    }
   ],
   "source": [
    "for i,b in all:\n",
    "    print(i,b)"
   ]
  },
  {
   "cell_type": "code",
   "execution_count": null,
   "metadata": {},
   "outputs": [],
   "source": []
  }
 ],
 "metadata": {
  "kernelspec": {
   "display_name": "Python 3.8.3 ('base')",
   "language": "python",
   "name": "python3"
  },
  "language_info": {
   "codemirror_mode": {
    "name": "ipython",
    "version": 3
   },
   "file_extension": ".py",
   "mimetype": "text/x-python",
   "name": "python",
   "nbconvert_exporter": "python",
   "pygments_lexer": "ipython3",
   "version": "3.8.3"
  },
  "orig_nbformat": 4,
  "vscode": {
   "interpreter": {
    "hash": "41571774ca0b15d7c3fb56567357abd7bcf6a1eec6e5877779b6e8fb1aff2699"
   }
  }
 },
 "nbformat": 4,
 "nbformat_minor": 2
}
