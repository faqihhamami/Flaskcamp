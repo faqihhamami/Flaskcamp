{
 "cells": [
  {
   "cell_type": "code",
   "execution_count": 3,
   "metadata": {},
   "outputs": [],
   "source": [
    "import requests\n",
    "import pprint"
   ]
  },
  {
   "cell_type": "code",
   "execution_count": 5,
   "metadata": {},
   "outputs": [
    {
     "name": "stdout",
     "output_type": "stream",
     "text": [
      "{\"kind\":\"youtube#playlistItemListResponse\",\"items\":[{\"kind\":\"youtube#playlistItem\",\"id\":\"UEwtQ3RkQ0FwRUZIX254ZXJHcXlHMmFpMXRaNGhVZ1FXZy41NkI0NEY2RDEwNTU3Q0M2\",\"snippet\":{\"publishedAt\":\"2022-06-06T10:03:53Z\",\"channelId\":\"UC14ZKB9XsDZbnHVmr4AmUpQ\",\"title\":\"TUTORIAL JENKINS DASAR (BAHASA INDONESIA)\",\"description\":\"Hi guys, pada kelas ini kita akan bahas tentang materi awal Jenkins, yaitu Jenkins Dasar. Jenkins adalah automation server yang sangat populer untuk membantu kita dalam proses CI/CD\\n\\n#jenkins #cicd #programmerzamannow\\n\\nSlide : https://docs.google.com/presentation/d/1JhqKkc7L9NOxSxnYHKlOHaPt7isbKcLfO-IU4QscEGk/edit?usp=sharing\\n\\nMateri Video :\\n00:00:00 - Pendahuluan\\n00:02:45 - Pengenalan Automation Server\\n00:09:22 - Pengenalan Jenkins\\n00:14:02 - Menginstall Jenkins\\n00:31:14 - Jenkins Data\\n00:33:52 - Membuat Job\\n00:39:14 - Menginstall Git Plugin\\n00:44:52 - Credentials\\n00:49:38 - Integrasi dengan Git\\n00:53:45 - Build Step\\n01:00:29 - Build History\\n01:03:52 - Post Build Action\\n01:13:56 - Copy Job\\n01:16:19 - Scheduled Job\\n01:20:49 - Poll SCM\\n01:26:43 - Disabled Job\\n01:29:16 - Jenkins Environment Variable\\n01:33:47 - Global Environment Variable\\n01:37:13 - Build Parameter\\n01:42:45 - Discard Old Build\\n01:46:26 - Build Executor\\n01:50:40 - User Management\\n02:02:02 - Trigger Build Remotely\\n02:06:13 - View\\n02:09:02 - Nodes\\n02:23:41 - Materi Selanjutnya\\n\\nJOIN PREMIUM : https://www.youtube.com/ProgrammerZamanNow/join\\n\\nDISCORD PREMIUM : https://www.youtube.com/post/UgxBHnvjdwwAioDHe0x4AaABCQ\\n\\nDonasi :\\nSaweria : https://saweria.co/ProgrammerZamanNow\\n\\nSocial Media :\\nInstagram : https://www.instagram.com/ProgrammerZamanNow\\nFacebook : https://www.facebook.com/ProgrammerZamanNow\\nTelegram : https://t.me/ProgrammerZamanNow\\nYoutube : https://www.youtube.com/c/ProgrammerZamanNow\",\"thumbnails\":{\"default\":{\"url\":\"https://i.ytimg.com/vi/qKI7Y2sUjbU/default.jpg\",\"width\":120,\"height\":90},\"medium\":{\"url\":\"https://i.ytimg.com/vi/qKI7Y2sUjbU/mqdefault.jpg\",\"width\":320,\"height\":180},\"high\":{\"url\":\"https://i.ytimg.com/vi/qKI7Y2sUjbU/hqdefault.jpg\",\"width\":480,\"height\":360},\"standard\":{\"url\":\"https://i.ytimg.com/vi/qKI7Y2sUjbU/sddefault.jpg\",\"width\":640,\"height\":480},\"maxres\":{\"url\":\"https://i.ytimg.com/vi/qKI7Y2sUjbU/maxresdefault.jpg\",\"width\":1280,\"height\":720}},\"channelTitle\":\"Programmer Zaman Now\",\"playlistId\":\"PL-CtdCApEFH_nxerGqyG2ai1tZ4hUgQWg\",\"position\":0,\"resourceId\":{\"kind\":\"youtube#video\",\"videoId\":\"qKI7Y2sUjbU\"},\"videoOwnerChannelTitle\":\"Programmer Zaman Now\",\"videoOwnerChannelId\":\"UC14ZKB9XsDZbnHVmr4AmUpQ\"}},{\"kind\":\"youtube#playlistItem\",\"id\":\"UEwtQ3RkQ0FwRUZIX254ZXJHcXlHMmFpMXRaNGhVZ1FXZy4yODlGNEE0NkRGMEEzMEQy\",\"snippet\":{\"publishedAt\":\"2022-08-29T08:18:07Z\",\"channelId\":\"UC14ZKB9XsDZbnHVmr4AmUpQ\",\"title\":\"TUTORIAL JENKINS PIPELINE (BAHASA INDONESIA)\",\"description\":\"Hi guys, pada materi ini kita akan belajar tentang Jenkins Pipeline\\n\\n#jenkins #pipeline #programmerzamannow\\n\\nSlide : https://docs.google.com/presentation/d/1-BUyr1jpaE37gfUi84SVAcdlj_JZ8w_HbLxQzrltits/edit?usp=sharing\\n\\nSource Code : https://github.com/ProgrammerZamanNow/belajar-jenkins-pipeline\\n\\nMateri Video :\\n00:00:00 - Pendahuluan\\n00:01:32 - Pengelana Jenkins Pipeline\\n00:06:37 - Mensintall Jenkins Pipeline\\n00:08:31 - Pipeline Concept\\n00:14:29 - Pipeline Job\\n00:18:24 - Jenkinsfile\\n00:25:36 - Agent\\n00:34:38 - Post\\n00:39:22 - Stages\\n00:46:06 - Steps\\n00:48:04 - Basic Steps\\n00:53:48 - Node and Process Steps\\n00:59:58 - Script\\n01:04:37 - Utility Steps\\n01:10:06 - Other Steps\\n01:12:35 - Agent per Stage\\n01:16:56 - Global Variable\\n01:23:58 - Environment\\n01:40:53 - Option\\n01:47:17 - Parameter\\n01:57:30 - Trigger\\n02:03:31 - Input\\n02:11:58 - When\\n02:18:46 - Sequential Stages\\n02:22:47 - Parallel\\n02:27:56 - Matrix\\n02:40:35 - Credentials Binding Plugin\\n02:51:58 - Multi Branch Pipeline\\n03:03:27 - Pipeline Limitation\\n03:06:12 - Materi Selanjutnya\\n\\nJOIN PREMIUM : https://www.youtube.com/ProgrammerZamanNow/join\\n\\nDISCORD PREMIUM : https://www.youtube.com/post/UgxBHnvjdwwAioDHe0x4AaABCQ\\n\\nDonasi :\\nSaweria : https://saweria.co/ProgrammerZamanNow\\n\\nSocial Media :\\nInstagram : https://www.instagram.com/ProgrammerZamanNow\\nFacebook : https://www.facebook.com/ProgrammerZamanNow\\nTelegram : https://t.me/ProgrammerZamanNow\\nYoutube : https://www.youtube.com/c/ProgrammerZamanNow\",\"thumbnails\":{\"default\":{\"url\":\"https://i.ytimg.com/vi/QCCImNUf8ic/default.jpg\",\"width\":120,\"height\":90},\"medium\":{\"url\":\"https://i.ytimg.com/vi/QCCImNUf8ic/mqdefault.jpg\",\"width\":320,\"height\":180},\"high\":{\"url\":\"https://i.ytimg.com/vi/QCCImNUf8ic/hqdefault.jpg\",\"width\":480,\"height\":360},\"standard\":{\"url\":\"https://i.ytimg.com/vi/QCCImNUf8ic/sddefault.jpg\",\"width\":640,\"height\":480},\"maxres\":{\"url\":\"https://i.ytimg.com/vi/QCCImNUf8ic/maxresdefault.jpg\",\"width\":1280,\"height\":720}},\"channelTitle\":\"Programmer Zaman Now\",\"playlistId\":\"PL-CtdCApEFH_nxerGqyG2ai1tZ4hUgQWg\",\"position\":1,\"resourceId\":{\"kind\":\"youtube#video\",\"videoId\":\"QCCImNUf8ic\"},\"videoOwnerChannelTitle\":\"Programmer Zaman Now\",\"videoOwnerChannelId\":\"UC14ZKB9XsDZbnHVmr4AmUpQ\"}},{\"kind\":\"youtube#playlistItem\",\"id\":\"UEwtQ3RkQ0FwRUZIX254ZXJHcXlHMmFpMXRaNGhVZ1FXZy4wMTcyMDhGQUE4NTIzM0Y5\",\"snippet\":{\"publishedAt\":\"2022-11-25T16:53:48Z\",\"channelId\":\"UC14ZKB9XsDZbnHVmr4AmUpQ\",\"title\":\"TUTORIAL JENKINS SHARED LIBRARY (BAHASA INDONESIA)\",\"description\":\"Hi guys, di video kali ini kita akan bahas tentang materi Jenkins Shared Library.\\n\\n#programmerzamannow #jenkins #devops\\n\\nSlide : https://docs.google.com/presentation/d/1HLQwmkSCil90eTOwgRrre6pZ09hFJIajKRH8wmspduE/edit?usp=sharing\\n\\nSource Code :\\n- https://github.com/ProgrammerZamanNow/belajar-jenkins-shared-library\\n- https://github.com/ProgrammerZamanNow/belajar-jenkins-shared-library-app\\n\\nMateri Video :\\n00:00:00 - Pendahuluan\\n00:01:34 - Pengenalan Shared Library\\n00:04:35 - Membuat Shared Library\\n00:09:58 - Registrasi Shared Library\\n00:12:57 - Menggunakan Library\\n00:23:18 - Groovy Class\\n00:32:14 - Mengakses Steps\\n00:36:19 - Global Variable\\n00:37:20 - Function\\n00:41:52 - Default Function\\n00:44:56 - Parameter\\n00:51:24 - List Parameter\\n00:57:08 - Map Parameter\\n01:04:21 - Library Resource\\n01:09:03 - Declarative Pipeline\\n01:21:39 - Materi Selanjutnya\\n\\nJOIN PREMIUM : https://www.youtube.com/ProgrammerZamanNow/join\\n\\nDISCORD PREMIUM : https://www.youtube.com/post/UgxBHnvjdwwAioDHe0x4AaABCQ\\n\\nDonasi :\\nSaweria : https://saweria.co/ProgrammerZamanNow\\n\\nSocial Media :\\nInstagram : https://www.instagram.com/ProgrammerZamanNow\\nFacebook : https://www.facebook.com/ProgrammerZamanNow\\nTelegram : https://t.me/ProgrammerZamanNow\\nYoutube : https://www.youtube.com/c/ProgrammerZamanNow\",\"thumbnails\":{\"default\":{\"url\":\"https://i.ytimg.com/vi/-7BeeQI27SY/default.jpg\",\"width\":120,\"height\":90},\"medium\":{\"url\":\"https://i.ytimg.com/vi/-7BeeQI27SY/mqdefault.jpg\",\"width\":320,\"height\":180},\"high\":{\"url\":\"https://i.ytimg.com/vi/-7BeeQI27SY/hqdefault.jpg\",\"width\":480,\"height\":360},\"standard\":{\"url\":\"https://i.ytimg.com/vi/-7BeeQI27SY/sddefault.jpg\",\"width\":640,\"height\":480},\"maxres\":{\"url\":\"https://i.ytimg.com/vi/-7BeeQI27SY/maxresdefault.jpg\",\"width\":1280,\"height\":720}},\"channelTitle\":\"Programmer Zaman Now\",\"playlistId\":\"PL-CtdCApEFH_nxerGqyG2ai1tZ4hUgQWg\",\"position\":2,\"resourceId\":{\"kind\":\"youtube#video\",\"videoId\":\"-7BeeQI27SY\"},\"videoOwnerChannelTitle\":\"Programmer Zaman Now\",\"videoOwnerChannelId\":\"UC14ZKB9XsDZbnHVmr4AmUpQ\"}}],\"pageInfo\":{\"totalResults\":3,\"resultsPerPage\":50}}\n"
     ]
    }
   ],
   "source": [
    "# get list of programmer zaman now \n",
    "import requests\n",
    "\n",
    "url = \"https://youtube-v31.p.rapidapi.com/playlistItems\"\n",
    "\n",
    "querystring = {\"playlistId\":\"PL-CtdCApEFH_nxerGqyG2ai1tZ4hUgQWg\",\"part\":\"snippet\",\"maxResults\":\"50\"}\n",
    "\n",
    "headers = {\n",
    "\t\"X-RapidAPI-Key\": \"d3df6dc15bmsh342cb4697f76e33p1ee0f0jsn045f39f9f64b\",\n",
    "\t\"X-RapidAPI-Host\": \"youtube-v31.p.rapidapi.com\"\n",
    "}\n",
    "\n",
    "response = requests.request(\"GET\", url, headers=headers, params=querystring)\n",
    "\n",
    "print(response.text)"
   ]
  },
  {
   "cell_type": "code",
   "execution_count": 10,
   "metadata": {},
   "outputs": [],
   "source": [
    "import json \n",
    "\n",
    "playlist_jenkins = json.loads(response.text)"
   ]
  },
  {
   "cell_type": "code",
   "execution_count": 11,
   "metadata": {},
   "outputs": [
    {
     "name": "stdout",
     "output_type": "stream",
     "text": [
      "3\n"
     ]
    }
   ],
   "source": [
    "countvideo = playlist_jenkins['pageInfo']['totalResults']\n",
    "print(countvideo)"
   ]
  },
  {
   "cell_type": "code",
   "execution_count": 14,
   "metadata": {},
   "outputs": [
    {
     "name": "stdout",
     "output_type": "stream",
     "text": [
      "2022-06-06T10:03:53Z\n",
      "TUTORIAL JENKINS DASAR (BAHASA INDONESIA)\n",
      "Hi guys, pada kelas ini kita akan bahas tentang materi awal Jenkins, yaitu Jenkins Dasar. Jenkins adalah automation server yang sangat populer untuk membantu kita dalam proses CI/CD\n",
      "\n",
      "#jenkins #cicd #programmerzamannow\n",
      "\n",
      "Slide : https://docs.google.com/presentation/d/1JhqKkc7L9NOxSxnYHKlOHaPt7isbKcLfO-IU4QscEGk/edit?usp=sharing\n",
      "\n",
      "Materi Video :\n",
      "00:00:00 - Pendahuluan\n",
      "00:02:45 - Pengenalan Automation Server\n",
      "00:09:22 - Pengenalan Jenkins\n",
      "00:14:02 - Menginstall Jenkins\n",
      "00:31:14 - Jenkins Data\n",
      "00:33:52 - Membuat Job\n",
      "00:39:14 - Menginstall Git Plugin\n",
      "00:44:52 - Credentials\n",
      "00:49:38 - Integrasi dengan Git\n",
      "00:53:45 - Build Step\n",
      "01:00:29 - Build History\n",
      "01:03:52 - Post Build Action\n",
      "01:13:56 - Copy Job\n",
      "01:16:19 - Scheduled Job\n",
      "01:20:49 - Poll SCM\n",
      "01:26:43 - Disabled Job\n",
      "01:29:16 - Jenkins Environment Variable\n",
      "01:33:47 - Global Environment Variable\n",
      "01:37:13 - Build Parameter\n",
      "01:42:45 - Discard Old Build\n",
      "01:46:26 - Build Executor\n",
      "01:50:40 - User Management\n",
      "02:02:02 - Trigger Build Remotely\n",
      "02:06:13 - View\n",
      "02:09:02 - Nodes\n",
      "02:23:41 - Materi Selanjutnya\n",
      "\n",
      "JOIN PREMIUM : https://www.youtube.com/ProgrammerZamanNow/join\n",
      "\n",
      "DISCORD PREMIUM : https://www.youtube.com/post/UgxBHnvjdwwAioDHe0x4AaABCQ\n",
      "\n",
      "Donasi :\n",
      "Saweria : https://saweria.co/ProgrammerZamanNow\n",
      "\n",
      "Social Media :\n",
      "Instagram : https://www.instagram.com/ProgrammerZamanNow\n",
      "Facebook : https://www.facebook.com/ProgrammerZamanNow\n",
      "Telegram : https://t.me/ProgrammerZamanNow\n",
      "Youtube : https://www.youtube.com/c/ProgrammerZamanNow\n",
      "2022-08-29T08:18:07Z\n",
      "TUTORIAL JENKINS PIPELINE (BAHASA INDONESIA)\n",
      "Hi guys, pada materi ini kita akan belajar tentang Jenkins Pipeline\n",
      "\n",
      "#jenkins #pipeline #programmerzamannow\n",
      "\n",
      "Slide : https://docs.google.com/presentation/d/1-BUyr1jpaE37gfUi84SVAcdlj_JZ8w_HbLxQzrltits/edit?usp=sharing\n",
      "\n",
      "Source Code : https://github.com/ProgrammerZamanNow/belajar-jenkins-pipeline\n",
      "\n",
      "Materi Video :\n",
      "00:00:00 - Pendahuluan\n",
      "00:01:32 - Pengelana Jenkins Pipeline\n",
      "00:06:37 - Mensintall Jenkins Pipeline\n",
      "00:08:31 - Pipeline Concept\n",
      "00:14:29 - Pipeline Job\n",
      "00:18:24 - Jenkinsfile\n",
      "00:25:36 - Agent\n",
      "00:34:38 - Post\n",
      "00:39:22 - Stages\n",
      "00:46:06 - Steps\n",
      "00:48:04 - Basic Steps\n",
      "00:53:48 - Node and Process Steps\n",
      "00:59:58 - Script\n",
      "01:04:37 - Utility Steps\n",
      "01:10:06 - Other Steps\n",
      "01:12:35 - Agent per Stage\n",
      "01:16:56 - Global Variable\n",
      "01:23:58 - Environment\n",
      "01:40:53 - Option\n",
      "01:47:17 - Parameter\n",
      "01:57:30 - Trigger\n",
      "02:03:31 - Input\n",
      "02:11:58 - When\n",
      "02:18:46 - Sequential Stages\n",
      "02:22:47 - Parallel\n",
      "02:27:56 - Matrix\n",
      "02:40:35 - Credentials Binding Plugin\n",
      "02:51:58 - Multi Branch Pipeline\n",
      "03:03:27 - Pipeline Limitation\n",
      "03:06:12 - Materi Selanjutnya\n",
      "\n",
      "JOIN PREMIUM : https://www.youtube.com/ProgrammerZamanNow/join\n",
      "\n",
      "DISCORD PREMIUM : https://www.youtube.com/post/UgxBHnvjdwwAioDHe0x4AaABCQ\n",
      "\n",
      "Donasi :\n",
      "Saweria : https://saweria.co/ProgrammerZamanNow\n",
      "\n",
      "Social Media :\n",
      "Instagram : https://www.instagram.com/ProgrammerZamanNow\n",
      "Facebook : https://www.facebook.com/ProgrammerZamanNow\n",
      "Telegram : https://t.me/ProgrammerZamanNow\n",
      "Youtube : https://www.youtube.com/c/ProgrammerZamanNow\n",
      "2022-11-25T16:53:48Z\n",
      "TUTORIAL JENKINS SHARED LIBRARY (BAHASA INDONESIA)\n",
      "Hi guys, di video kali ini kita akan bahas tentang materi Jenkins Shared Library.\n",
      "\n",
      "#programmerzamannow #jenkins #devops\n",
      "\n",
      "Slide : https://docs.google.com/presentation/d/1HLQwmkSCil90eTOwgRrre6pZ09hFJIajKRH8wmspduE/edit?usp=sharing\n",
      "\n",
      "Source Code :\n",
      "- https://github.com/ProgrammerZamanNow/belajar-jenkins-shared-library\n",
      "- https://github.com/ProgrammerZamanNow/belajar-jenkins-shared-library-app\n",
      "\n",
      "Materi Video :\n",
      "00:00:00 - Pendahuluan\n",
      "00:01:34 - Pengenalan Shared Library\n",
      "00:04:35 - Membuat Shared Library\n",
      "00:09:58 - Registrasi Shared Library\n",
      "00:12:57 - Menggunakan Library\n",
      "00:23:18 - Groovy Class\n",
      "00:32:14 - Mengakses Steps\n",
      "00:36:19 - Global Variable\n",
      "00:37:20 - Function\n",
      "00:41:52 - Default Function\n",
      "00:44:56 - Parameter\n",
      "00:51:24 - List Parameter\n",
      "00:57:08 - Map Parameter\n",
      "01:04:21 - Library Resource\n",
      "01:09:03 - Declarative Pipeline\n",
      "01:21:39 - Materi Selanjutnya\n",
      "\n",
      "JOIN PREMIUM : https://www.youtube.com/ProgrammerZamanNow/join\n",
      "\n",
      "DISCORD PREMIUM : https://www.youtube.com/post/UgxBHnvjdwwAioDHe0x4AaABCQ\n",
      "\n",
      "Donasi :\n",
      "Saweria : https://saweria.co/ProgrammerZamanNow\n",
      "\n",
      "Social Media :\n",
      "Instagram : https://www.instagram.com/ProgrammerZamanNow\n",
      "Facebook : https://www.facebook.com/ProgrammerZamanNow\n",
      "Telegram : https://t.me/ProgrammerZamanNow\n",
      "Youtube : https://www.youtube.com/c/ProgrammerZamanNow\n"
     ]
    }
   ],
   "source": [
    "# get title and description\n",
    "for video in playlist_jenkins['items']:\n",
    "    snippet = video['snippet']\n",
    "\n",
    "    publishedAt = snippet['publishedAt']\n",
    "    title = snippet['title']\n",
    "    description = snippet['description']\n",
    "\n",
    "    print(publishedAt)\n",
    "    print(title)\n",
    "    print(description, sep='\\n')\n",
    "\n"
   ]
  },
  {
   "cell_type": "code",
   "execution_count": null,
   "metadata": {},
   "outputs": [],
   "source": []
  }
 ],
 "metadata": {
  "kernelspec": {
   "display_name": "Python 3.8.3 ('base')",
   "language": "python",
   "name": "python3"
  },
  "language_info": {
   "codemirror_mode": {
    "name": "ipython",
    "version": 3
   },
   "file_extension": ".py",
   "mimetype": "text/x-python",
   "name": "python",
   "nbconvert_exporter": "python",
   "pygments_lexer": "ipython3",
   "version": "3.8.3"
  },
  "orig_nbformat": 4,
  "vscode": {
   "interpreter": {
    "hash": "41571774ca0b15d7c3fb56567357abd7bcf6a1eec6e5877779b6e8fb1aff2699"
   }
  }
 },
 "nbformat": 4,
 "nbformat_minor": 2
}
